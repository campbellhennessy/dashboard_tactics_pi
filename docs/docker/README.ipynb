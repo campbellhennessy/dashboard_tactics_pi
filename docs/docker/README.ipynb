{
 "cells": [
  {
   "cell_type": "markdown",
   "metadata": {},
   "source": [
    "# Using Docker for backend services with DashT"
   ]
  },
  {
   "cell_type": "markdown",
   "metadata": {},
   "source": [
    "xxx"
   ]
  },
  {
   "cell_type": "markdown",
   "metadata": {},
   "source": [
    "## Docker Desktop for Windows"
   ]
  },
  {
   "cell_type": "markdown",
   "metadata": {},
   "source": [
    "## Kitematic"
   ]
  },
  {
   "cell_type": "markdown",
   "metadata": {},
   "source": [
    "Visual Docker Container Management on Mac & Windows https://kitematic.com (on GitHub https://github.com/docker/kitematic)."
   ]
  },
  {
   "cell_type": "markdown",
   "metadata": {},
   "source": [
    "View with Kitematic of the three containers, providing three services:"
   ]
  },
  {
   "cell_type": "markdown",
   "metadata": {},
   "source": [
    "![2020-03-28_kitematic_3_services.png](2020-03-28_kitematic_3_services.png) [(zoom)](img/2020-03-28_kitematic_3_services.png)"
   ]
  },
  {
   "cell_type": "markdown",
   "metadata": {},
   "source": [
    "View with Kitematic of the three containers, providing three useful services:\n",
    "\n",
    "* **nginx** - this is the HTTP / proxy server, a swiss knife providing both files to OpenCPN's _DashT_ but also connecting it to other network based services.\n",
    "* **InfluxDB v2** - time series database which both collects data from DashT but which is also available to feed it back to _DashT_ but also to other useful services:\n",
    "* **Grafana** - A monitoring solution which allows you to create more complex dashboard's that would be possible with _DashT_ or with _InfluxDB v2_."
   ]
  },
  {
   "cell_type": "markdown",
   "metadata": {},
   "source": [
    ">It is noteworthy that we do not run a Signal K node server locally here in Docker - it may require some physical connection like USB and it is better done with _node.js_ which is also network performance wise a better solution than running it in a Docker instance. For testing and learning it is, of course possible to run Signal K as a Docker instance as well."
   ]
  },
  {
   "cell_type": "markdown",
   "metadata": {},
   "source": [
    "## nginx"
   ]
  },
  {
   "cell_type": "markdown",
   "metadata": {},
   "source": [
    "[nginx](http://nginx.org/en/) _engine x_ is an HTTP and reverse proxy server. It is a true Swiss knife, allowing us to provide and share all services local, like http://localhost:8088 - we need more services, we just add port numbers. With _nginx_'s rirch features and high its reverse proxy we can\n",
    "\n",
    "* Make _DashT_ network based files available as network service from the local file system, the same in which OpenCPN is installed - no copying is needed\n",
    "* We can make the code in those files to access _InfluxDB v2_ in parallel with your browser and with _Grafana_ by enabling [CORS](https://en.wikipedia.org/wiki/Cross-origin_resource_sharing) (_Cross-Origin-Resource-Sharing_) so that browser security features gets satisfied"
   ]
  },
  {
   "cell_type": "markdown",
   "metadata": {},
   "source": [
    "### Define your local paths to make available"
   ]
  },
  {
   "cell_type": "markdown",
   "metadata": {},
   "source": [
    "In this case we use Docker _bind_ method to map directly back to our file system. This is different than _mount_ of a _volume_ which we are going to use with _Grafana_."
   ]
  },
  {
   "cell_type": "markdown",
   "metadata": {},
   "source": [
    "#### HTML and JavaScript files"
   ]
  },
  {
   "cell_type": "markdown",
   "metadata": {},
   "source": [
    "_DashT_ WebView and JavaScript based instruments needs to be loaded from a HTTP server. In the OpenCPN installation on a Windows system the are typically in `C:\\'Program Files (x86)'\\OpenCPN\\plugins\\dashboard_tactics_pi\\data\\instrujs`"
   ]
  },
  {
   "cell_type": "markdown",
   "metadata": {},
   "source": [
    "We want to bind that folder to _nginx_ Docker instance's folder `/data/www`"
   ]
  },
  {
   "cell_type": "markdown",
   "metadata": {},
   "source": [
    "### nginx.conf"
   ]
  },
  {
   "cell_type": "markdown",
   "metadata": {},
   "source": [
    "It is nice to be edit directly the _nginx_'s configuration file without sometimes complicated tricks. That's why we bind it to a local file system file as well."
   ]
  },
  {
   "cell_type": "markdown",
   "metadata": {},
   "source": [
    "We want _nginx_ to configure two local port, to act as proxy server and to deal with CORS so that the localhost served JavaScript files can access services such as the _InfluxDB v2_:\n",
    "\n",
    "* port 8088 - is mapped in Docker container as port 80, bind back to the host's local file system as explained above\n",
    "* port 8089 - is a proxy for files served from 8088 wanting to access _influxdb_ server - [CORS Access Control headers](https://en.wikipedia.org/wiki/Cross-origin_resource_sharing#How_CORS_works) are replied to browsers confirming them that this is OK - tested Chrome 80, Firefox 74 and even IE11 (because WebView of wxWidgets is using it)."
   ]
  },
  {
   "cell_type": "markdown",
   "metadata": {},
   "source": [
    "Create in your home folder a folder named `nginx` and create in it a text file `nginx.conf` with the following contents:"
   ]
  },
  {
   "cell_type": "markdown",
   "metadata": {},
   "source": [
    "```\n",
    "\n",
    "user  nginx;\n",
    "worker_processes  1;\n",
    "\n",
    "error_log  /var/log/nginx/error.log warn;\n",
    "pid        /var/run/nginx.pid;\n",
    "\n",
    "\n",
    "events {\n",
    "    worker_connections  1024;\n",
    "}\n",
    "\n",
    "\n",
    "http {\n",
    "    include       /etc/nginx/mime.types;\n",
    "    default_type  application/octet-stream;\n",
    "\n",
    "    log_format  main  '$remote_addr - $remote_user [$time_local] \"$request\" '\n",
    "                      '$status $body_bytes_sent \"$http_referer\" '\n",
    "                      '\"$http_user_agent\" \"$http_x_forwarded_for\"';\n",
    "\n",
    "    access_log  /var/log/nginx/access.log  main;\n",
    "\n",
    "    sendfile        on;\n",
    "    #tcp_nopush     on;\n",
    "\n",
    "    keepalive_timeout  65;\n",
    "\n",
    "    #gzip  on;\n",
    "    \n",
    "    server {\n",
    "      listen 80;\n",
    "      location / {\n",
    "        root /data/www;\n",
    "        autoindex on;\n",
    "      }\n",
    "    }\n",
    "    server {\n",
    "      listen 8089;\n",
    "      location / {\n",
    "        if ($request_method = 'OPTIONS') {\n",
    "            add_header 'Access-Control-Allow-Origin' 'http://localhost:8088';\n",
    "            add_header 'Access-Control-Allow-Credentials' 'true' always;\n",
    "            add_header 'Access-Control-Allow-Methods' 'GET, POST, OPTIONS';\n",
    "            add_header 'Access-Control-Allow-Headers' 'Authorization,Accept,Origin,DNT,User-Agent,X-Requested-With,If-Modified-Since,Cache-Control,Content-Type,Range';\n",
    "            add_header 'Access-Control-Max-Age' 1728000;\n",
    "            add_header 'Content-Type' 'text/plain; charset=utf-8';\n",
    "            add_header 'Content-Length' 0;\n",
    "            return 204;\n",
    "        }\n",
    "        if ($request_method = 'POST') {\n",
    "            add_header 'Access-Control-Allow-Credentials' 'true' always;\n",
    "            add_header 'Access-Control-Allow-Methods' 'GET, POST, OPTIONS';\n",
    "            add_header 'Access-Control-Allow-Headers' 'Authorization,Accept,Origin,DNT,User-Agent,X-Requested-With,If-Modified-Since,Cache-Control,Content-Type,Range';\n",
    "            add_header 'Access-Control-Expose-Headers' 'Content-Length,Content-Range';\n",
    "        }\n",
    "        if ($request_method = 'GET') {\n",
    "            add_header 'Access-Control-Allow-Credentials' 'true' always;\n",
    "            add_header 'Access-Control-Allow-Methods' 'GET, POST, OPTIONS';\n",
    "            add_header 'Access-Control-Allow-Headers' 'Authorization,Accept,Origin,DNT,User-Agent,X-Requested-With,If-Modified-Since,Cache-Control,Content-Type,Range';\n",
    "            add_header 'Access-Control-Expose-Headers' 'Content-Length,Content-Range';\n",
    "        }\n",
    "        proxy_redirect off;\n",
    "        proxy_set_header host $host;\n",
    "        proxy_set_header X-real-ip $remote_addr;\n",
    "        proxy_set_header X-forward-for $proxy_add_x_forwarded_for;\n",
    "        proxy_pass http://influxdb:9999;\n",
    "      }\n",
    "    }\n",
    "}\n",
    "\n",
    "\n",
    "```"
   ]
  },
  {
   "cell_type": "markdown",
   "metadata": {},
   "source": [
    "### nginx Docker launch command line"
   ]
  },
  {
   "cell_type": "markdown",
   "metadata": {},
   "source": [
    "If you have a _nginx_ container in the _Kitematic_, delete it. The above bindings are better done from the command line (bash, PowerShell, accessible from Kitematic's `Docker CLI` button) - it one single, long command line without line breaks:"
   ]
  },
  {
   "cell_type": "markdown",
   "metadata": {},
   "source": [
    "`docker run --name nginx --restart=unless-stopped -p 8088:80 -p 8089:8089 --mount type=bind,source=C:\\'Program Files (x86)'\\OpenCPN\\plugins\\dashboard_tactics_pi\\data\\instrujs,target=/data/www --mount type=bind,source=~\\nginx\\nginx.conf,target=/etc/nginx/nginx.conf -d nginx`"
   ]
  },
  {
   "cell_type": "markdown",
   "metadata": {},
   "source": [
    "### Link nginx container's network with InfluxDB's network"
   ]
  },
  {
   "cell_type": "markdown",
   "metadata": {},
   "source": [
    "This avoids having complicated DNS or other arrangements since the instance of _nginx_ will see the instance of _InfluxDB v2_ as `influxdb` - this name is used in the proxy settings and if your _nginx_ is already running it is complaining about this."
   ]
  },
  {
   "cell_type": "markdown",
   "metadata": {},
   "source": [
    "This is best done using _Kitematic_ - it is this easy: I _nginx_ container's `Network` tab, in `Links` part, select _InfluxDB v2_ container under `NAME`. In `ALIAS`, type _influxdb_:"
   ]
  },
  {
   "cell_type": "markdown",
   "metadata": {},
   "source": [
    "![2020-03-29_Kitematic_link_to_influxdb_network.png](2020-03-29_Kitematic_link_to_influxdb_network.png)"
   ]
  },
  {
   "cell_type": "markdown",
   "metadata": {},
   "source": [
    "You may want to restart the _nginx_ container (you can use _Kitematic_'s button for that) to make sure that the error message relaed to missing _influxdb_ name has disappeared."
   ]
  },
  {
   "cell_type": "markdown",
   "metadata": {},
   "source": [
    "## InfluxDB v2"
   ]
  },
  {
   "cell_type": "markdown",
   "metadata": {},
   "source": [
    "When this is written _InfluxDB v2_ is still in beta, but advanced one."
   ]
  },
  {
   "cell_type": "markdown",
   "metadata": {},
   "source": [
    "## Grafana"
   ]
  },
  {
   "cell_type": "markdown",
   "metadata": {},
   "source": [
    "With _Grafana_ we want to use a separated volume to share it settings and other parameters in persistent manner, provided that we need to delete and restart the container."
   ]
  },
  {
   "cell_type": "markdown",
   "metadata": {},
   "source": [
    "### Link Granana container's network with InfluxDB's network"
   ]
  },
  {
   "cell_type": "markdown",
   "metadata": {},
   "source": [
    "This avoids having complicated DNS or other arrangements and even the usage of _nginx_ proxy since the instance of _Grafana_ will see the instance of _InfluxDB v2_ as `influxdb` - this name will be used in its datasource settings, saved in the persistent volume. Therefore it is not good idea to change the following names when the container is recreated for some reason."
   ]
  },
  {
   "cell_type": "markdown",
   "metadata": {},
   "source": [
    "The link is best done using _Kitematic_ - it is this easy: I _nginx_ container's `Network` tab, in `Links` part, select _InfluxDB v2_ container under `NAME`. In `ALIAS`, type _influxdb_:"
   ]
  },
  {
   "cell_type": "markdown",
   "metadata": {},
   "source": [
    "![2020-03-29_Kitematic_link_to_influxdb_network.png](2020-03-29_Kitematic_link_to_influxdb_network.png)"
   ]
  },
  {
   "cell_type": "markdown",
   "metadata": {},
   "source": [
    "You may want to restart the _Grafana_ container (you can use _Kitematic_'s button for that) before making any configuration effort."
   ]
  }
 ],
 "metadata": {
  "kernelspec": {
   "display_name": "Python 3",
   "language": "python",
   "name": "python3"
  },
  "language_info": {
   "codemirror_mode": {
    "name": "ipython",
    "version": 3
   },
   "file_extension": ".py",
   "mimetype": "text/x-python",
   "name": "python",
   "nbconvert_exporter": "python",
   "pygments_lexer": "ipython3",
   "version": "3.7.4"
  }
 },
 "nbformat": 4,
 "nbformat_minor": 4
}
